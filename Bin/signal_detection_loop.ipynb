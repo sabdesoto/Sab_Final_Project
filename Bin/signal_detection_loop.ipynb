{
 "cells": [
  {
   "cell_type": "markdown",
   "metadata": {},
   "source": [
    "Goal: Create a function that will return the phase points along the detection of a signal.\n",
    "\n",
    "step1)To get the signal I need to asign a threshold value to the amplitude(ampl.)\n",
    "\n",
    "step2)Then only look at ampl. values > threshold.\n",
    "\n",
    "step3)Get corresponding phases to these ampls.\n",
    "\n",
    "step4)take average of the phases\n",
    "\n",
    "step6)Do this for all 30min observation period data (using loop?)\n",
    "\n",
    "step7)Create a table of the time record and the average phase (and fring size)."
   ]
  },
  {
   "cell_type": "code",
   "execution_count": 3,
   "metadata": {
    "collapsed": false
   },
   "outputs": [],
   "source": [
    "#Import libraries\n",
    "import pandas as pd\n",
    "import numpy as np"
   ]
  },
  {
   "cell_type": "code",
   "execution_count": 7,
   "metadata": {
    "collapsed": false
   },
   "outputs": [
    {
     "data": {
      "text/html": [
       "<div>\n",
       "<table border=\"1\" class=\"dataframe\">\n",
       "  <thead>\n",
       "    <tr style=\"text-align: right;\">\n",
       "      <th></th>\n",
       "      <th>Unnamed: 0</th>\n",
       "      <th>Channel</th>\n",
       "      <th>IF</th>\n",
       "      <th>Polar</th>\n",
       "      <th>Frequency</th>\n",
       "      <th>Velocity</th>\n",
       "      <th>Ampl(Jy)</th>\n",
       "      <th>Phase</th>\n",
       "    </tr>\n",
       "  </thead>\n",
       "  <tbody>\n",
       "    <tr>\n",
       "      <th>0</th>\n",
       "      <td>0</td>\n",
       "      <td>1</td>\n",
       "      <td>1</td>\n",
       "      <td>RR</td>\n",
       "      <td>1720.8099</td>\n",
       "      <td>0</td>\n",
       "      <td>FLAGGED</td>\n",
       "      <td>NaN</td>\n",
       "    </tr>\n",
       "    <tr>\n",
       "      <th>1</th>\n",
       "      <td>1</td>\n",
       "      <td>2</td>\n",
       "      <td>1</td>\n",
       "      <td>RR</td>\n",
       "      <td>1720.8093</td>\n",
       "      <td>0</td>\n",
       "      <td>0.258678E-03</td>\n",
       "      <td>6.040</td>\n",
       "    </tr>\n",
       "    <tr>\n",
       "      <th>2</th>\n",
       "      <td>2</td>\n",
       "      <td>3</td>\n",
       "      <td>1</td>\n",
       "      <td>RR</td>\n",
       "      <td>1720.8087</td>\n",
       "      <td>0</td>\n",
       "      <td>0.463556E-03</td>\n",
       "      <td>-95.605</td>\n",
       "    </tr>\n",
       "    <tr>\n",
       "      <th>3</th>\n",
       "      <td>3</td>\n",
       "      <td>4</td>\n",
       "      <td>1</td>\n",
       "      <td>RR</td>\n",
       "      <td>1720.8081</td>\n",
       "      <td>0</td>\n",
       "      <td>0.522407E-03</td>\n",
       "      <td>-106.389</td>\n",
       "    </tr>\n",
       "    <tr>\n",
       "      <th>4</th>\n",
       "      <td>4</td>\n",
       "      <td>5</td>\n",
       "      <td>1</td>\n",
       "      <td>RR</td>\n",
       "      <td>1720.8075</td>\n",
       "      <td>0</td>\n",
       "      <td>0.422755E-03</td>\n",
       "      <td>-20.039</td>\n",
       "    </tr>\n",
       "  </tbody>\n",
       "</table>\n",
       "</div>"
      ],
      "text/plain": [
       "   Unnamed: 0  Channel  IF Polar  Frequency  Velocity      Ampl(Jy)    Phase\n",
       "0           0        1   1    RR  1720.8099         0       FLAGGED      NaN\n",
       "1           1        2   1    RR  1720.8093         0  0.258678E-03    6.040\n",
       "2           2        3   1    RR  1720.8087         0  0.463556E-03  -95.605\n",
       "3           3        4   1    RR  1720.8081         0  0.522407E-03 -106.389\n",
       "4           4        5   1    RR  1720.8075         0  0.422755E-03  -20.039"
      ]
     },
     "execution_count": 7,
     "metadata": {},
     "output_type": "execute_result"
    }
   ],
   "source": [
    "#Load data (just one table to begin) \n",
    "data_long= pd.read_table('Data_chunk1.csv', delimiter=',')\n",
    "data_long.head()"
   ]
  },
  {
   "cell_type": "code",
   "execution_count": 8,
   "metadata": {
    "collapsed": false
   },
   "outputs": [
    {
     "name": "stderr",
     "output_type": "stream",
     "text": [
      "/Users/sabrinadesoto/anaconda/lib/python3.4/site-packages/IPython/kernel/__main__.py:8: SettingWithCopyWarning: \n",
      "A value is trying to be set on a copy of a slice from a DataFrame.\n",
      "Try using .loc[row_indexer,col_indexer] = value instead\n",
      "\n",
      "See the caveats in the documentation: http://pandas.pydata.org/pandas-docs/stable/indexing.html#indexing-view-versus-copy\n"
     ]
    },
    {
     "data": {
      "text/html": [
       "<div>\n",
       "<table border=\"1\" class=\"dataframe\">\n",
       "  <thead>\n",
       "    <tr style=\"text-align: right;\">\n",
       "      <th></th>\n",
       "      <th>Unnamed</th>\n",
       "      <th>Channel</th>\n",
       "      <th>IF</th>\n",
       "      <th>Polar</th>\n",
       "      <th>Frequency</th>\n",
       "      <th>Velocity</th>\n",
       "      <th>Amplitude</th>\n",
       "      <th>Phase</th>\n",
       "    </tr>\n",
       "  </thead>\n",
       "  <tbody>\n",
       "    <tr>\n",
       "      <th>1</th>\n",
       "      <td>1</td>\n",
       "      <td>2</td>\n",
       "      <td>1</td>\n",
       "      <td>RR</td>\n",
       "      <td>1720.8093</td>\n",
       "      <td>0</td>\n",
       "      <td>0.000259</td>\n",
       "      <td>6.040</td>\n",
       "    </tr>\n",
       "    <tr>\n",
       "      <th>2</th>\n",
       "      <td>2</td>\n",
       "      <td>3</td>\n",
       "      <td>1</td>\n",
       "      <td>RR</td>\n",
       "      <td>1720.8087</td>\n",
       "      <td>0</td>\n",
       "      <td>0.000464</td>\n",
       "      <td>-95.605</td>\n",
       "    </tr>\n",
       "    <tr>\n",
       "      <th>3</th>\n",
       "      <td>3</td>\n",
       "      <td>4</td>\n",
       "      <td>1</td>\n",
       "      <td>RR</td>\n",
       "      <td>1720.8081</td>\n",
       "      <td>0</td>\n",
       "      <td>0.000522</td>\n",
       "      <td>-106.389</td>\n",
       "    </tr>\n",
       "    <tr>\n",
       "      <th>4</th>\n",
       "      <td>4</td>\n",
       "      <td>5</td>\n",
       "      <td>1</td>\n",
       "      <td>RR</td>\n",
       "      <td>1720.8075</td>\n",
       "      <td>0</td>\n",
       "      <td>0.000423</td>\n",
       "      <td>-20.039</td>\n",
       "    </tr>\n",
       "    <tr>\n",
       "      <th>5</th>\n",
       "      <td>5</td>\n",
       "      <td>6</td>\n",
       "      <td>1</td>\n",
       "      <td>RR</td>\n",
       "      <td>1720.8069</td>\n",
       "      <td>0</td>\n",
       "      <td>0.000864</td>\n",
       "      <td>-122.188</td>\n",
       "    </tr>\n",
       "  </tbody>\n",
       "</table>\n",
       "</div>"
      ],
      "text/plain": [
       "   Unnamed  Channel  IF Polar  Frequency  Velocity  Amplitude    Phase\n",
       "1        1        2   1    RR  1720.8093         0   0.000259    6.040\n",
       "2        2        3   1    RR  1720.8087         0   0.000464  -95.605\n",
       "3        3        4   1    RR  1720.8081         0   0.000522 -106.389\n",
       "4        4        5   1    RR  1720.8075         0   0.000423  -20.039\n",
       "5        5        6   1    RR  1720.8069         0   0.000864 -122.188"
      ]
     },
     "execution_count": 8,
     "metadata": {},
     "output_type": "execute_result"
    }
   ],
   "source": [
    "#shorten table so I can check that test works\n",
    "short_data=data_long[1:6]\n",
    "\n",
    "#Rename columns to prevent future syntax errors\n",
    "short_data.columns=['Unnamed','Channel','IF','Polar','Frequency','Velocity','Amplitude','Phase']\n",
    "\n",
    "#Convert Apmlitude values str to float\n",
    "short_data['Amplitude'] = short_data['Amplitude'].astype(float)\n",
    "\n",
    "short_data"
   ]
  },
  {
   "cell_type": "code",
   "execution_count": 10,
   "metadata": {
    "collapsed": false
   },
   "outputs": [
    {
     "data": {
      "text/plain": [
       "Amplitude    0.000864\n",
       "dtype: float64"
      ]
     },
     "execution_count": 10,
     "metadata": {},
     "output_type": "execute_result"
    }
   ],
   "source": [
    "#find ampl max to base threshold off of\n",
    "ampl=short_data[['Amplitude']]\n",
    "ampl.max()"
   ]
  },
  {
   "cell_type": "markdown",
   "metadata": {},
   "source": [
    "# TDD for signal_phase_range (sphr) function"
   ]
  },
  {
   "cell_type": "code",
   "execution_count": 12,
   "metadata": {
    "collapsed": false
   },
   "outputs": [],
   "source": [
    "#Create singal_phase_range function\n",
    "\n",
    "#Start with basic function to return ampl. values > threshold \n",
    "def signal_phase_range_1(data, column):\n",
    "    '''Function that reads through amplitudes and returns amplitudes > constant threshold'''\n",
    "    #define threshold value\n",
    "    threshold_ampl=0.0005\n",
    "    \n",
    "    Creat\n",
    "    my_list = []\n",
    "    for values in column: \n",
    "        if values >= threshold_ampl:\n",
    "            #type(values) \n",
    "            #print(type(values))\n",
    "            my_list.append(values)\n",
    "    return my_list         "
   ]
  },
  {
   "cell_type": "code",
   "execution_count": 14,
   "metadata": {
    "collapsed": false
   },
   "outputs": [
    {
     "data": {
      "text/plain": [
       "[0.00052240700000000001, 0.00086378500000000005]"
      ]
     },
     "execution_count": 14,
     "metadata": {},
     "output_type": "execute_result"
    }
   ],
   "source": [
    "signal_phase_range_1(short_data, short_data.Amplitude)"
   ]
  },
  {
   "cell_type": "code",
   "execution_count": null,
   "metadata": {
    "collapsed": true
   },
   "outputs": [],
   "source": []
  },
  {
   "cell_type": "code",
   "execution_count": null,
   "metadata": {
    "collapsed": true
   },
   "outputs": [],
   "source": []
  },
  {
   "cell_type": "code",
   "execution_count": null,
   "metadata": {
    "collapsed": true
   },
   "outputs": [],
   "source": []
  },
  {
   "cell_type": "code",
   "execution_count": null,
   "metadata": {
    "collapsed": true
   },
   "outputs": [],
   "source": []
  },
  {
   "cell_type": "markdown",
   "metadata": {},
   "source": [
    "#Older tests and function attempts"
   ]
  },
  {
   "cell_type": "code",
   "execution_count": null,
   "metadata": {
    "collapsed": true
   },
   "outputs": [],
   "source": [
    "#second test function for signal_phase_range\n",
    "#function should now identify ampl. >= threshold and find their row number in the data table\n",
    "def test_sphr_2():\n",
    "    obs= 2,3,5\n",
    "    exp= signal_phase_range_2(short_data, short_data.Amplitude)\n",
    "    assert obs==exp, 'The row number for the amplitudes > thresholds should be 2,3,5' "
   ]
  },
  {
   "cell_type": "code",
   "execution_count": null,
   "metadata": {
    "collapsed": false,
    "scrolled": true
   },
   "outputs": [],
   "source": [
    "def signal_phase_range_2(data, column_1):\n",
    "    '''Function returns the row number for amplitudes > threshold'''\n",
    "    for values in column_1:\n",
    "        if float(values) >= threshold_ampl:\n",
    "            print(values)\n",
    "    \n",
    "    for rows in data:\n",
    "        if row is \n"
   ]
  },
  {
   "cell_type": "code",
   "execution_count": null,
   "metadata": {
    "collapsed": true
   },
   "outputs": [],
   "source": [
    "def signal_phase_range_3(data, column_1, column_2):\n",
    "\n",
    "    for values in column_1:\n",
    "        if float(values) >= threshold_ampl:\n",
    "            values\n",
    "\n",
    "    def ampl_to_freq(values, column_2):\n",
    "        if column_2.iloc[[],5]== column_1.iloc[[values],7]:\n",
    "            print(column_2)\n",
    "\n",
    "    return"
   ]
  },
  {
   "cell_type": "code",
   "execution_count": null,
   "metadata": {
    "collapsed": false
   },
   "outputs": [],
   "source": [
    "signal_phase_range_3(short_data, short_data.Amplitude, short_data.Frequency)"
   ]
  },
  {
   "cell_type": "code",
   "execution_count": 11,
   "metadata": {
    "collapsed": false
   },
   "outputs": [],
   "source": [
    "#first test for function signal_phase_range\n",
    "#function will return values >= threshold   \n",
    "threshold_ampl=.50E-03\n",
    "\n",
    "def test_sphr_1():\n",
    "    obs= np.array([0.522407E-03, 0.863785E-03])\n",
    "    exp= signal_phase_range_1(short_data, short_data.Amplitude)\n",
    "    assert obs == exp, 'The only ampl. values over the threshold=.50E-03 are 0.522407E-03 and 0.863785E-03'"
   ]
  },
  {
   "cell_type": "code",
   "execution_count": 13,
   "metadata": {
    "collapsed": false
   },
   "outputs": [
    {
     "data": {
      "text/plain": [
       "array([ 0.00052241,  0.00086379])"
      ]
     },
     "execution_count": 13,
     "metadata": {},
     "output_type": "execute_result"
    }
   ],
   "source": [
    "#print(signal_phase_range_1(short_data, short_data.Amplitude))\n",
    "obs= np.array([0.522407E-03, 0.863785E-03])\n",
    "obs"
   ]
  },
  {
   "cell_type": "code",
   "execution_count": null,
   "metadata": {
    "collapsed": false
   },
   "outputs": [],
   "source": [
    "test_sphr_1()"
   ]
  },
  {
   "cell_type": "code",
   "execution_count": null,
   "metadata": {
    "collapsed": true
   },
   "outputs": [],
   "source": []
  }
 ],
 "metadata": {
  "kernelspec": {
   "display_name": "Python 3",
   "language": "python",
   "name": "python3"
  },
  "language_info": {
   "codemirror_mode": {
    "name": "ipython",
    "version": 3
   },
   "file_extension": ".py",
   "mimetype": "text/x-python",
   "name": "python",
   "nbconvert_exporter": "python",
   "pygments_lexer": "ipython3",
   "version": "3.4.3"
  }
 },
 "nbformat": 4,
 "nbformat_minor": 0
}
