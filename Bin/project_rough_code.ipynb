{
 "cells": [
  {
   "cell_type": "markdown",
   "metadata": {},
   "source": [
    "#1.)set up"
   ]
  },
  {
   "cell_type": "code",
   "execution_count": 2,
   "metadata": {
    "collapsed": true
   },
   "outputs": [],
   "source": [
    "#Import Libraries\n",
    "import pandas as pd\n",
    "import matplotlib.pyplot as plt\n",
    "%matplotlib inline\n",
    "import csv\n",
    "import re\n",
    "from matplotlib.backends.backend_pdf import PdfPages\n",
    "#pp = PdfPages('multipage.pdf')"
   ]
  },
  {
   "cell_type": "code",
   "execution_count": 3,
   "metadata": {
    "collapsed": true
   },
   "outputs": [],
   "source": [
    "#***********don't include in python script\n",
    "#load number lines for end of headers from full data \n",
    "headerlines=pd.read_table('/Users/sabrinadesoto/Documents/Sab_Final_Project/Data/header_ends.dat')"
   ]
  },
  {
   "cell_type": "code",
   "execution_count": 4,
   "metadata": {
    "collapsed": false
   },
   "outputs": [],
   "source": [
    "#variable for the length of the unseparated data called sabrina.dat\n",
    "#setting this variable with the len() function would make your code easier to manage if you change anything about your data\n",
    "#even if you don't change your data, it will make your code more reusable\n",
    "length_of_file=12624"
   ]
  },
  {
   "cell_type": "code",
   "execution_count": 5,
   "metadata": {
    "collapsed": false
   },
   "outputs": [
    {
     "name": "stdout",
     "output_type": "stream",
     "text": [
      "24\n"
     ]
    }
   ],
   "source": [
    "#While loop to load data into a list by sepparating chunks by observation periods\n",
    "\n",
    "#Assign variables \n",
    "#Length of data file \n",
    "length_of_file=12624\n",
    "#skipped rows is equal to the number of rows at the bottom of the file to skip\n",
    "skipped_footer = length_of_file\n",
    "#header row is equal to the row that contains the header for the data\n",
    "header_row = 10\n",
    "#table will store the each chunk of observation time data as an item in a list\n",
    "table = []\n",
    "\n",
    "#Variable to tell me how many times the loop is ran \n",
    "observation_periods=0\n",
    "\n",
    "#loops will continue to go, until all the data has been read\n",
    "while skipped_footer > 0:\n",
    "    #shifts the skipped footer down the length of a table \n",
    "    skipped_footer -= 526\n",
    "    #dataframe is the dataframe that contains the data\n",
    "    dataframe = pd.read_table('/Users/sabrinadesoto/Documents/Sab_Final_Project/Data/sabrina.dat', sep='\\s+', header=header_row, skipfooter = skipped_footer, engine='python')\n",
    "    #appends the dataframe to the list\n",
    "    table.append(dataframe)\n",
    "    #Renamed Ampl(JY) to avoide syntax errors\n",
    "    dataframe.columns=['Channel','IF','Polar','Frequency','Velocity','Amplitude','Phase']\n",
    "    #converted Ampl from str(because of E) to float \n",
    "    dataframe['Amplitude']=dataframe[1:]['Amplitude'].astype(float)\n",
    "    #shifts the header row to the next table in the data\n",
    "    header_row += 523\n",
    "    #count each time list is ran through\n",
    "    observation_periods+=1\n",
    "\n",
    "#tell how many time list was ran through (tells me how many outputs I should get from now on)\n",
    "print(observation_periods)"
   ]
  },
  {
   "cell_type": "code",
   "execution_count": 6,
   "metadata": {
    "collapsed": true
   },
   "outputs": [],
   "source": [
    "#I need some test to say if 511 rows should be printed for each data chunk"
   ]
  },
  {
   "cell_type": "code",
   "execution_count": 7,
   "metadata": {
    "collapsed": false
   },
   "outputs": [
    {
     "data": {
      "text/html": [
       "<div>\n",
       "<table border=\"1\" class=\"dataframe\">\n",
       "  <thead>\n",
       "    <tr style=\"text-align: right;\">\n",
       "      <th></th>\n",
       "      <th>Channel</th>\n",
       "      <th>IF</th>\n",
       "      <th>Polar</th>\n",
       "      <th>Frequency</th>\n",
       "      <th>Velocity</th>\n",
       "      <th>Amplitude</th>\n",
       "      <th>Phase</th>\n",
       "    </tr>\n",
       "  </thead>\n",
       "  <tbody>\n",
       "    <tr>\n",
       "      <th>0</th>\n",
       "      <td>1</td>\n",
       "      <td>1</td>\n",
       "      <td>RR</td>\n",
       "      <td>1720.8099</td>\n",
       "      <td>0</td>\n",
       "      <td>NaN</td>\n",
       "      <td>NaN</td>\n",
       "    </tr>\n",
       "    <tr>\n",
       "      <th>1</th>\n",
       "      <td>2</td>\n",
       "      <td>1</td>\n",
       "      <td>RR</td>\n",
       "      <td>1720.8093</td>\n",
       "      <td>0</td>\n",
       "      <td>0.000259</td>\n",
       "      <td>6.040</td>\n",
       "    </tr>\n",
       "    <tr>\n",
       "      <th>2</th>\n",
       "      <td>3</td>\n",
       "      <td>1</td>\n",
       "      <td>RR</td>\n",
       "      <td>1720.8087</td>\n",
       "      <td>0</td>\n",
       "      <td>0.000464</td>\n",
       "      <td>-95.605</td>\n",
       "    </tr>\n",
       "    <tr>\n",
       "      <th>3</th>\n",
       "      <td>4</td>\n",
       "      <td>1</td>\n",
       "      <td>RR</td>\n",
       "      <td>1720.8081</td>\n",
       "      <td>0</td>\n",
       "      <td>0.000522</td>\n",
       "      <td>-106.389</td>\n",
       "    </tr>\n",
       "    <tr>\n",
       "      <th>4</th>\n",
       "      <td>5</td>\n",
       "      <td>1</td>\n",
       "      <td>RR</td>\n",
       "      <td>1720.8075</td>\n",
       "      <td>0</td>\n",
       "      <td>0.000423</td>\n",
       "      <td>-20.039</td>\n",
       "    </tr>\n",
       "  </tbody>\n",
       "</table>\n",
       "</div>"
      ],
      "text/plain": [
       "   Channel  IF Polar  Frequency  Velocity  Amplitude    Phase\n",
       "0        1   1    RR  1720.8099         0        NaN      NaN\n",
       "1        2   1    RR  1720.8093         0   0.000259    6.040\n",
       "2        3   1    RR  1720.8087         0   0.000464  -95.605\n",
       "3        4   1    RR  1720.8081         0   0.000522 -106.389\n",
       "4        5   1    RR  1720.8075         0   0.000423  -20.039"
      ]
     },
     "execution_count": 7,
     "metadata": {},
     "output_type": "execute_result"
    }
   ],
   "source": [
    "#check table holds right values\n",
    "table[0].head()"
   ]
  },
  {
   "cell_type": "code",
   "execution_count": 8,
   "metadata": {
    "collapsed": false
   },
   "outputs": [
    {
     "data": {
      "text/html": [
       "<div>\n",
       "<table border=\"1\" class=\"dataframe\">\n",
       "  <thead>\n",
       "    <tr style=\"text-align: right;\">\n",
       "      <th></th>\n",
       "      <th>Channel</th>\n",
       "      <th>IF</th>\n",
       "      <th>Polar</th>\n",
       "      <th>Frequency</th>\n",
       "      <th>Velocity</th>\n",
       "      <th>Amplitude</th>\n",
       "      <th>Phase</th>\n",
       "    </tr>\n",
       "  </thead>\n",
       "  <tbody>\n",
       "    <tr>\n",
       "      <th>0</th>\n",
       "      <td>1</td>\n",
       "      <td>1</td>\n",
       "      <td>RR</td>\n",
       "      <td>1720.8099</td>\n",
       "      <td>0</td>\n",
       "      <td>NaN</td>\n",
       "      <td>NaN</td>\n",
       "    </tr>\n",
       "    <tr>\n",
       "      <th>1</th>\n",
       "      <td>2</td>\n",
       "      <td>1</td>\n",
       "      <td>RR</td>\n",
       "      <td>1720.8093</td>\n",
       "      <td>0</td>\n",
       "      <td>0.000518</td>\n",
       "      <td>18.793</td>\n",
       "    </tr>\n",
       "    <tr>\n",
       "      <th>2</th>\n",
       "      <td>3</td>\n",
       "      <td>1</td>\n",
       "      <td>RR</td>\n",
       "      <td>1720.8087</td>\n",
       "      <td>0</td>\n",
       "      <td>0.000300</td>\n",
       "      <td>45.620</td>\n",
       "    </tr>\n",
       "    <tr>\n",
       "      <th>3</th>\n",
       "      <td>4</td>\n",
       "      <td>1</td>\n",
       "      <td>RR</td>\n",
       "      <td>1720.8081</td>\n",
       "      <td>0</td>\n",
       "      <td>0.000680</td>\n",
       "      <td>-47.248</td>\n",
       "    </tr>\n",
       "    <tr>\n",
       "      <th>4</th>\n",
       "      <td>5</td>\n",
       "      <td>1</td>\n",
       "      <td>RR</td>\n",
       "      <td>1720.8075</td>\n",
       "      <td>0</td>\n",
       "      <td>0.000460</td>\n",
       "      <td>-36.178</td>\n",
       "    </tr>\n",
       "  </tbody>\n",
       "</table>\n",
       "</div>"
      ],
      "text/plain": [
       "   Channel  IF Polar  Frequency  Velocity  Amplitude   Phase\n",
       "0        1   1    RR  1720.8099         0        NaN     NaN\n",
       "1        2   1    RR  1720.8093         0   0.000518  18.793\n",
       "2        3   1    RR  1720.8087         0   0.000300  45.620\n",
       "3        4   1    RR  1720.8081         0   0.000680 -47.248\n",
       "4        5   1    RR  1720.8075         0   0.000460 -36.178"
      ]
     },
     "execution_count": 8,
     "metadata": {},
     "output_type": "execute_result"
    }
   ],
   "source": [
    "#check all tables heads/values are changed\n",
    "table[1].head()"
   ]
  },
  {
   "cell_type": "markdown",
   "metadata": {},
   "source": [
    "#make phase diagrams\n",
    "Spike in the amplitude is the detection we care about. From that we can look at the phase pts that go with that spike."
   ]
  },
  {
   "cell_type": "code",
   "execution_count": 88,
   "metadata": {
    "collapsed": false
   },
   "outputs": [],
   "source": [
    "#Make phase diagrams \n",
    "\n",
    "def make_phase_diagrams():\n",
    "    '''Makes all the phase diagrams for every observation period using a while loop'''\n",
    "    \n",
    "    #Assign Variables\n",
    "    #Length of data file \n",
    "    length_of_file=12624\n",
    "    #skipped rows is equal to the number of rows at the bottom of the file to skip\n",
    "    skipped_footer = length_of_file\n",
    "    #header row is equal to the row that contains the header for the data\n",
    "    header_row = 10\n",
    "    #table will store the each chunk of observation time data as an item in a list\n",
    "    table = []\n",
    "    #plots=[]\n",
    "    \n",
    "    pp=PdfPages('plots.png') \n",
    "    \n",
    "    #loops will continue to go, until all the data has been read\n",
    "    while skipped_footer > 0:\n",
    "        #shifts the skipped footer down the length of a table \n",
    "        skipped_footer -= 526\n",
    "        #dataframe is the dataframe that contains the data\n",
    "        dataframe = pd.read_table('/Users/sabrinadesoto/Documents/Sab_Final_Project/Data/sabrina.dat', sep='\\s+', header=header_row, skipfooter = skipped_footer, engine='python')\n",
    "        #appends the dataframe to the list\n",
    "        #table.append(dataframe)\n",
    "        #Renamed Ampl(JY) to avoide syntax errors\n",
    "        dataframe.columns=['Channel','IF','Polar','Frequency','Velocity','Amplitude','Phase']\n",
    "        #converted Ampl from str(because of E) to float \n",
    "        dataframe['Amplitude']=dataframe[1:]['Amplitude'].astype(float)\n",
    "        #save the list of data chunks\n",
    "        #dataframe.to_csv('/Users/sabrinadesoto/Documents/Sab_Final_Project/Data/data_chunks_list.csv', delimiter=',')\n",
    "    \n",
    "        #Plot Channel vs. phase/ampl. for all times\n",
    "        #use multi-pannel plots stacked on eachother since they share the same x-axis\n",
    "        plt.figure(figsize=(10,4))\n",
    "\n",
    "        #top subplot is for phase data\n",
    "        plt.subplot (2,1,1)\n",
    "        plt.scatter(dataframe.Frequency, dataframe.Phase)\n",
    "        plt.ylabel('Phase')\n",
    "        #only one title since both subplots together make a phase diagram \n",
    "        plt.title('Phase Diagram')#if I could get the title to change for each one that'd be cool\n",
    "        #plots.append(plot1)\n",
    "\n",
    "        #bottom subplot is amplitude data\n",
    "        plt.subplot (2,1,2)\n",
    "        plt.plot(dataframe.Frequency, dataframe.Amplitude, color='g')\n",
    "        #how do I get the scale to be numbers like 1720....#######\n",
    "        plt.xlim(1720.48, 1720.82)\n",
    "        #only one x-axis label since both subplots share the same x-axis\n",
    "        plt.xlabel('Tunned Frequency')\n",
    "        plt.ylabel('Amplitude(Jy)')\n",
    "        #plots.append(plot2)\n",
    "        \n",
    "        plt.show()\n",
    "        pp.savefig()\n",
    "        pp.close()\n",
    "        \n",
    "        \n",
    "        #shifts the header row to the next table in the data\n",
    "        header_row += 523\n",
    "    "
   ]
  },
  {
   "cell_type": "code",
   "execution_count": 89,
   "metadata": {
    "collapsed": false
   },
   "outputs": [
    {
     "name": "stderr",
     "output_type": "stream",
     "text": [
      "/Users/sabrinadesoto/anaconda/lib/python3.4/site-packages/matplotlib/collections.py:590: FutureWarning: elementwise comparison failed; returning scalar instead, but in the future will perform elementwise comparison\n",
      "  if self._edgecolors == str('face'):\n"
     ]
    },
    {
     "data": {
      "image/png": "[encoded data removed]",
      "text/plain": [
       "<matplotlib.figure.Figure at 0x108deb358>"
      ]
     },
     "metadata": {},
     "output_type": "display_data"
    },
    {
     "ename": "ValueError",
     "evalue": "No such figure: None",
     "output_type": "error",
     "traceback": [
      "\u001b[0;31m---------------------------------------------------------------------------\u001b[0m",
      "\u001b[0;31mValueError\u001b[0m                                Traceback (most recent call last)",
      "\u001b[0;32m<ipython-input-89-0a0646c07da5>\u001b[0m in \u001b[0;36m<module>\u001b[0;34m()\u001b[0m\n\u001b[0;32m----> 1\u001b[0;31m \u001b[0mmake_phase_diagrams\u001b[0m\u001b[0;34m(\u001b[0m\u001b[0;34m)\u001b[0m\u001b[0;34m\u001b[0m\u001b[0m\n\u001b[0m",
      "\u001b[0;32m<ipython-input-88-60c461dafe3d>\u001b[0m in \u001b[0;36mmake_phase_diagrams\u001b[0;34m()\u001b[0m\n\u001b[1;32m     55\u001b[0m \u001b[0;34m\u001b[0m\u001b[0m\n\u001b[1;32m     56\u001b[0m         \u001b[0mplt\u001b[0m\u001b[0;34m.\u001b[0m\u001b[0mshow\u001b[0m\u001b[0;34m(\u001b[0m\u001b[0;34m)\u001b[0m\u001b[0;34m\u001b[0m\u001b[0m\n\u001b[0;32m---> 57\u001b[0;31m         \u001b[0mpp\u001b[0m\u001b[0;34m.\u001b[0m\u001b[0msavefig\u001b[0m\u001b[0;34m(\u001b[0m\u001b[0;34m)\u001b[0m\u001b[0;34m\u001b[0m\u001b[0m\n\u001b[0m\u001b[1;32m     58\u001b[0m         \u001b[0mpp\u001b[0m\u001b[0;34m.\u001b[0m\u001b[0mclose\u001b[0m\u001b[0;34m(\u001b[0m\u001b[0;34m)\u001b[0m\u001b[0;34m\u001b[0m\u001b[0m\n\u001b[1;32m     59\u001b[0m \u001b[0;34m\u001b[0m\u001b[0m\n",
      "\u001b[0;32m/Users/sabrinadesoto/anaconda/lib/python3.4/site-packages/matplotlib/backends/backend_pdf.py\u001b[0m in \u001b[0;36msavefig\u001b[0;34m(self, figure, **kwargs)\u001b[0m\n\u001b[1;32m   2436\u001b[0m                 \u001b[0mfigureManager\u001b[0m \u001b[0;34m=\u001b[0m \u001b[0mGcf\u001b[0m\u001b[0;34m.\u001b[0m\u001b[0mget_fig_manager\u001b[0m\u001b[0;34m(\u001b[0m\u001b[0mfigure\u001b[0m\u001b[0;34m)\u001b[0m\u001b[0;34m\u001b[0m\u001b[0m\n\u001b[1;32m   2437\u001b[0m             \u001b[0;32mif\u001b[0m \u001b[0mfigureManager\u001b[0m \u001b[0;32mis\u001b[0m \u001b[0;32mNone\u001b[0m\u001b[0;34m:\u001b[0m\u001b[0;34m\u001b[0m\u001b[0m\n\u001b[0;32m-> 2438\u001b[0;31m                 \u001b[0;32mraise\u001b[0m \u001b[0mValueError\u001b[0m\u001b[0;34m(\u001b[0m\u001b[0;34m\"No such figure: \"\u001b[0m \u001b[0;34m+\u001b[0m \u001b[0mrepr\u001b[0m\u001b[0;34m(\u001b[0m\u001b[0mfigure\u001b[0m\u001b[0;34m)\u001b[0m\u001b[0;34m)\u001b[0m\u001b[0;34m\u001b[0m\u001b[0m\n\u001b[0m\u001b[1;32m   2439\u001b[0m             \u001b[0;32melse\u001b[0m\u001b[0;34m:\u001b[0m\u001b[0;34m\u001b[0m\u001b[0m\n\u001b[1;32m   2440\u001b[0m                 figureManager.canvas.figure.savefig(self, format='pdf',\n",
      "\u001b[0;31mValueError\u001b[0m: No such figure: None"
     ]
    }
   ],
   "source": [
    "make_phase_diagrams()"
   ]
  },
  {
   "cell_type": "code",
   "execution_count": 11,
   "metadata": {
    "collapsed": false,
    "scrolled": true
   },
   "outputs": [
    {
     "ename": "AttributeError",
     "evalue": "'function' object has no attribute 'get_xaxis'",
     "output_type": "error",
     "traceback": [
      "\u001b[0;31m---------------------------------------------------------------------------\u001b[0m",
      "\u001b[0;31mAttributeError\u001b[0m                            Traceback (most recent call last)",
      "\u001b[0;32m<ipython-input-11-48996f63d1cd>\u001b[0m in \u001b[0;36m<module>\u001b[0;34m()\u001b[0m\n\u001b[1;32m     12\u001b[0m \u001b[0mplt\u001b[0m\u001b[0;34m.\u001b[0m\u001b[0mylabel\u001b[0m\u001b[0;34m(\u001b[0m\u001b[0;34m'Phase'\u001b[0m\u001b[0;34m)\u001b[0m\u001b[0;34m\u001b[0m\u001b[0m\n\u001b[1;32m     13\u001b[0m \u001b[0mplt\u001b[0m\u001b[0;34m.\u001b[0m\u001b[0mtitle\u001b[0m\u001b[0;34m(\u001b[0m\u001b[0;34m'Phase Diagram'\u001b[0m\u001b[0;34m)\u001b[0m\u001b[0;34m\u001b[0m\u001b[0m\n\u001b[0;32m---> 14\u001b[0;31m \u001b[0mplt\u001b[0m\u001b[0;34m.\u001b[0m\u001b[0maxes\u001b[0m\u001b[0;34m.\u001b[0m\u001b[0mget_xaxis\u001b[0m\u001b[0;34m(\u001b[0m\u001b[0;34m)\u001b[0m\u001b[0;34m.\u001b[0m\u001b[0mset_visible\u001b[0m\u001b[0;34m(\u001b[0m\u001b[0;32mFalse\u001b[0m\u001b[0;34m)\u001b[0m\u001b[0;34m\u001b[0m\u001b[0m\n\u001b[0m\u001b[1;32m     15\u001b[0m \u001b[0;34m\u001b[0m\u001b[0m\n\u001b[1;32m     16\u001b[0m \u001b[0;31m#subplot 2-ampl.\u001b[0m\u001b[0;34m\u001b[0m\u001b[0;34m\u001b[0m\u001b[0m\n",
      "\u001b[0;31mAttributeError\u001b[0m: 'function' object has no attribute 'get_xaxis'"
     ]
    },
    {
     "name": "stderr",
     "output_type": "stream",
     "text": [
      "/Users/sabrinadesoto/anaconda/lib/python3.4/site-packages/matplotlib/collections.py:590: FutureWarning: elementwise comparison failed; returning scalar instead, but in the future will perform elementwise comparison\n",
      "  if self._edgecolors == str('face'):\n"
     ]
    },
    {
     "data": {
      "image/png": "[encoded data removed]",
      "text/plain": [
       "<matplotlib.figure.Figure at 0x108bfbf98>"
      ]
     },
     "metadata": {},
     "output_type": "display_data"
    }
   ],
   "source": [
    "#Single table[0] plot\n",
    "#use multi-pannel plots stacked on eachother\n",
    "\n",
    "plt.figure(figsize=(10,4))\n",
    "plt.axes(frameon=False)\n",
    "\n",
    "#subplot 1-phase\n",
    "plt.subplot (2,1,1)\n",
    "#need to limit input to each chunk of data\n",
    "plt.scatter(table[0].Frequency, table[0].Phase)\n",
    "#I don't want it to show the x-axis?\n",
    "plt.ylabel('Phase')\n",
    "plt.title('Phase Diagram')\n",
    "plt.axes.get_xaxis().set_visible(False)\n",
    "\n",
    "#subplot 2-ampl.\n",
    "plt.subplot (2,1,2)\n",
    "plt.plot(table[0].Frequency, table[0].Amplitude, color='g')\n",
    "#how do I get the scale to be numbers like 1720....\n",
    "plt.xlim(1720.48, 1720.82)\n",
    "\n",
    "plt.xlabel('Tunned Frequency')\n",
    "plt.ylabel('Amplitude(Jy)')\n",
    "\n",
    "plt.savefig('/Users/sabrinadesoto/Documents/Sab_Final_Project/Data/Phase_Diagram0.pdf')\n",
    "plt.show()"
   ]
  },
  {
   "cell_type": "markdown",
   "metadata": {
    "collapsed": true
   },
   "source": [
    "#Get Signal Phase from Data"
   ]
  },
  {
   "cell_type": "code",
   "execution_count": null,
   "metadata": {
    "collapsed": true
   },
   "outputs": [],
   "source": [
    "#Start with basic function to return ampl. values > threshold \n",
    "def signal_phase_range_1(data, column):\n",
    "    '''Function that reads through amplitudes and returns amplitudes > constant threshold'''\n",
    "    #signal is defined as pts over a threshold value\n",
    "    #define threshold value (here I just assigned one but should be done by stats or something)\n",
    "    threshold_ampl=0.010\n",
    "    \n",
    "    #Create list to hold signal aplitudes\n",
    "    signal_ampl_list = []\n",
    "    for values in column: \n",
    "        if values >= threshold_ampl:\n",
    "            #type(values) \n",
    "            #print(type(values))\n",
    "            signal_ampl_list.append(values)\n",
    "    return signal_ampl_list         "
   ]
  },
  {
   "cell_type": "code",
   "execution_count": null,
   "metadata": {
    "collapsed": true
   },
   "outputs": [],
   "source": [
    "#Run loop to get all times ampl>threshold values \n",
    "#skipped rows is equal to the number of rows at the bottom of the file to skip\n",
    "skipped_footer = length_of_file\n",
    "#header row is equal to the row that contains the header for the data\n",
    "header_row = 10\n",
    "#table will store the each chunk of observation time data as an item in a list\n",
    "table = []\n",
    "#store each chunk of Signal Amplitude (SA, Ampl>threshold) data\n",
    "SA = []\n",
    "\n",
    "#loops will continue to go, until all the data has been read\n",
    "while skipped_footer > 0:\n",
    "    #shifts the skipped footer down the length of a table \n",
    "    skipped_footer -= 526\n",
    "    #dataframe is the dataframe that contains the data\n",
    "    dataframe = pd.read_table('/Users/sabrinadesoto/Documents/Sab_Final_Project/Data/sabrina.dat', sep='\\s+', header=header_row, skipfooter = skipped_footer, engine='python')\n",
    "    #appends the dataframe to the list\n",
    "    table.append(dataframe)\n",
    "    #Renamed Ampl(JY) to avoide syntax errors\n",
    "    dataframe.columns=['Channel','IF','Polar','Frequency','Velocity','Amplitude','Phase']\n",
    "    #converted Ampl from str(because of E) to float \n",
    "    dataframe['Amplitude']=dataframe[1:]['Amplitude'].astype(float)\n",
    "    #save the list of data chunks\n",
    "    dataframe.to_csv('/Users/sabrinadesoto/Documents/Sab_Final_Project/Data/data_chunks_list.csv', delimiter=',')\n",
    "    \n",
    "    signal_phase_range_1(dataframe, dataframe.Amplitude)\n",
    "    x = signal_phase_range_1(dataframe, dataframe.Amplitude)\n",
    "    sig_ampl=pd.DataFrame({'Amplitude':x})\n",
    "    SA.append(sig_ampl)\n",
    "    \n",
    "    \n",
    "    #shifts the header row to the next table in the data\n",
    "    header_row += 523"
   ]
  },
  {
   "cell_type": "code",
   "execution_count": null,
   "metadata": {
    "collapsed": false
   },
   "outputs": [],
   "source": [
    "#check that loop return same signal ampl values as running it outside loop:\n",
    "SA[0]"
   ]
  },
  {
   "cell_type": "code",
   "execution_count": null,
   "metadata": {
    "collapsed": false
   },
   "outputs": [],
   "source": [
    "#test function step 1 for small data\n",
    "signal_phase_range_1(table[0], table[0].Amplitude)"
   ]
  },
  {
   "cell_type": "code",
   "execution_count": null,
   "metadata": {
    "collapsed": false
   },
   "outputs": [],
   "source": [
    "#Assign array values from function to a table \n",
    "x = signal_phase_range_1(table[0], table[0].Amplitude)\n",
    "sig_ampl=pd.DataFrame({'Amplitude':x})\n",
    "sig_ampl"
   ]
  },
  {
   "cell_type": "code",
   "execution_count": null,
   "metadata": {
    "collapsed": false
   },
   "outputs": [],
   "source": [
    "#check that loop return different signal ampls for every observation time:\n",
    "SA[2]"
   ]
  },
  {
   "cell_type": "code",
   "execution_count": null,
   "metadata": {
    "collapsed": false
   },
   "outputs": [],
   "source": [
    "#merge data to get columns for detection ampl only\n",
    "result= pd.merge(table[0], sig_ampl, on='Amplitude')\n",
    "result"
   ]
  },
  {
   "cell_type": "code",
   "execution_count": null,
   "metadata": {
    "collapsed": false
   },
   "outputs": [],
   "source": [
    "#Average phase values\n",
    "result['Phase'].mean()"
   ]
  },
  {
   "cell_type": "code",
   "execution_count": null,
   "metadata": {
    "collapsed": true
   },
   "outputs": [],
   "source": [
    "#Run loop to get all detection Phase averages \n",
    "\n",
    "#skipped rows is equal to the number of rows at the bottom of the file to skip\n",
    "skipped_footer = length_of_file\n",
    "#header row is equal to the row that contains the header for the data\n",
    "header_row = 10\n",
    "#table will store the each chunk of observation time data as an item in a list\n",
    "table = []\n",
    "#store each chunk of Signal Amplitude (SA, Ampl>threshold) data\n",
    "SA = []\n",
    "#store set of signal data (SD) corresponding to a signal ampl\n",
    "SD =[]\n",
    "\n",
    "\n",
    "#loops will continue to go, until all the data has been read\n",
    "while skipped_footer > 0:\n",
    "    #shifts the skipped footer down the length of a table \n",
    "    skipped_footer -= 526\n",
    "    #dataframe is the dataframe that contains the data\n",
    "    dataframe = pd.read_table('/Users/sabrinadesoto/Documents/Sab_Final_Project/Data/sabrina.dat', sep='\\s+', header=header_row, skipfooter = skipped_footer, engine='python')\n",
    "    #appends the dataframe to the list\n",
    "    table.append(dataframe)\n",
    "    #Renamed Ampl(JY) to avoide syntax errors\n",
    "    dataframe.columns=['Channel','IF','Polar','Frequency','Velocity','Amplitude','Phase']\n",
    "    #converted Ampl from str(because of E) to float \n",
    "    dataframe['Amplitude']=dataframe[1:]['Amplitude'].astype(float)\n",
    "    #save the list of data chunks\n",
    "    dataframe.to_csv('/Users/sabrinadesoto/Documents/Sab_Final_Project/Data/data_chunks_list.csv', delimiter=',')\n",
    "    \n",
    "    signal_phase_range_1(dataframe, dataframe.Amplitude)\n",
    "    x = signal_phase_range_1(dataframe, dataframe.Amplitude)\n",
    "    sig_ampl=pd.DataFrame({'Amplitude':x})\n",
    "    SA.append(sig_ampl)\n",
    "    \n",
    "    #merge data to get columns for detection ampl only\n",
    "    signal_data= pd.merge(dataframe, sig_ampl, on='Amplitude')\n",
    "    SD.append(signal_data)\n",
    "    \n",
    "    #shifts the header row to the next table in the data\n",
    "    header_row += 523"
   ]
  },
  {
   "cell_type": "code",
   "execution_count": null,
   "metadata": {
    "collapsed": false
   },
   "outputs": [],
   "source": [
    "#check that it prints data chunks corresponding to signal ampl\n",
    "#as done for chunk 2 in previous step \n",
    "SD[2]"
   ]
  },
  {
   "cell_type": "code",
   "execution_count": null,
   "metadata": {
    "collapsed": false
   },
   "outputs": [],
   "source": [
    "SA[2]"
   ]
  },
  {
   "cell_type": "code",
   "execution_count": null,
   "metadata": {
    "collapsed": true
   },
   "outputs": [],
   "source": [
    "#Run loop that will get average signal phase for each observation time \n",
    "\n",
    "#skipped rows is equal to the number of rows at the bottom of the file to skip\n",
    "skipped_footer = length_of_file\n",
    "#header row is equal to the row that contains the header for the data\n",
    "header_row = 10\n",
    "#table will store the each chunk of observation time data as an item in a list\n",
    "table = []\n",
    "#store each chunk of Signal Amplitude (SA, Ampl>threshold) data\n",
    "SA = []\n",
    "#store set of signal data (SD) corresponding to a signal ampl\n",
    "SD =[]\n",
    "#store average signal phase (ASP)\n",
    "ASP =[]\n",
    "\n",
    "#loops will continue to go, until all the data has been read\n",
    "while skipped_footer > 0:\n",
    "    #shifts the skipped footer down the length of a table \n",
    "    skipped_footer -= 526\n",
    "    #dataframe is the dataframe that contains the data\n",
    "    dataframe = pd.read_table('/Users/sabrinadesoto/Documents/Sab_Final_Project/Data/sabrina.dat', sep='\\s+', header=header_row, skipfooter = skipped_footer, engine='python')\n",
    "    #appends the dataframe to the list\n",
    "    table.append(dataframe)\n",
    "    #Renamed Ampl(JY) to avoide syntax errors\n",
    "    dataframe.columns=['Channel','IF','Polar','Frequency','Velocity','Amplitude','Phase']\n",
    "    #converted Ampl from str(because of E) to float \n",
    "    dataframe['Amplitude']=dataframe[1:]['Amplitude'].astype(float)\n",
    "    #save the list of data chunks\n",
    "    dataframe.to_csv('/Users/sabrinadesoto/Documents/Sab_Final_Project/Data/data_chunks_list.csv', delimiter=',')\n",
    "    \n",
    "    signal_phase_range_1(dataframe, dataframe.Amplitude)\n",
    "    x = signal_phase_range_1(dataframe, dataframe.Amplitude)\n",
    "    sig_ampl=pd.DataFrame({'Amplitude':x})\n",
    "    SA.append(sig_ampl)\n",
    "    \n",
    "    #merge data to get columns for detection ampl only\n",
    "    signal_data= pd.merge(dataframe, sig_ampl, on='Amplitude')\n",
    "    SD.append(signal_data)\n",
    "    \n",
    "    #Average phase values\n",
    "    Ave_phase=signal_data['Phase'].mean()\n",
    "    ASP.append(Ave_phase)\n",
    "    \n",
    "    #shifts the header row to the next table in the data\n",
    "    header_row += 523"
   ]
  },
  {
   "cell_type": "code",
   "execution_count": null,
   "metadata": {
    "collapsed": false
   },
   "outputs": [],
   "source": [
    "#test Average signal phase is the same as calculated out of loop\n",
    "ASP[0]"
   ]
  },
  {
   "cell_type": "code",
   "execution_count": null,
   "metadata": {
    "collapsed": false
   },
   "outputs": [],
   "source": [
    "SD[0]['Phase'].mean()"
   ]
  },
  {
   "cell_type": "code",
   "execution_count": null,
   "metadata": {
    "collapsed": false
   },
   "outputs": [],
   "source": [
    "#test its different for each observation time \n",
    "ASP[2]"
   ]
  },
  {
   "cell_type": "code",
   "execution_count": null,
   "metadata": {
    "collapsed": false
   },
   "outputs": [],
   "source": [
    "SD[2]['Phase'].mean()"
   ]
  },
  {
   "cell_type": "code",
   "execution_count": null,
   "metadata": {
    "collapsed": false
   },
   "outputs": [],
   "source": [
    "#Write average signal phases for each observation period to a saved csv file \n",
    "#Run loop that will get average signal phase for each observation time \n",
    "\n",
    "#skipped rows is equal to the number of rows at the bottom of the file to skip\n",
    "skipped_footer = length_of_file\n",
    "#header row is equal to the row that contains the header for the data\n",
    "header_row = 10\n",
    "#table will store the each chunk of observation time data as an item in a list\n",
    "table = []\n",
    "#store each chunk of Signal Amplitude (SA, Ampl>threshold) data\n",
    "SA = []\n",
    "#store set of signal data (SD) corresponding to a signal ampl\n",
    "SD =[]\n",
    "#store average signal phase (ASP)\n",
    "ASP =[]\n",
    "\n",
    "#loops will continue to go, until all the data has been read\n",
    "while skipped_footer > 0:\n",
    "    #shifts the skipped footer down the length of a table \n",
    "    skipped_footer -= 526\n",
    "    #dataframe is the dataframe that contains the data\n",
    "    dataframe = pd.read_table('/Users/sabrinadesoto/Documents/Sab_Final_Project/Data/sabrina.dat', sep='\\s+', header=header_row, skipfooter = skipped_footer, engine='python')\n",
    "    #appends the dataframe to the list\n",
    "    table.append(dataframe)\n",
    "    #Renamed Ampl(JY) to avoide syntax errors\n",
    "    dataframe.columns=['Channel','IF','Polar','Frequency','Velocity','Amplitude','Phase']\n",
    "    #converted Ampl from str(because of E) to float \n",
    "    dataframe['Amplitude']=dataframe[1:]['Amplitude'].astype(float)\n",
    "    #save the list of data chunks\n",
    "    dataframe.to_csv('/Users/sabrinadesoto/Documents/Sab_Final_Project/Data/data_chunks_list.csv', delimiter=',')\n",
    "    \n",
    "    signal_phase_range_1(dataframe, dataframe.Amplitude)\n",
    "    x = signal_phase_range_1(dataframe, dataframe.Amplitude)\n",
    "    sig_ampl=pd.DataFrame({'Amplitude':x})\n",
    "    SA.append(sig_ampl)\n",
    "    \n",
    "    #merge data to get columns for detection ampl only\n",
    "    signal_data= pd.merge(dataframe, sig_ampl, on='Amplitude')\n",
    "    SD.append(signal_data)\n",
    "    \n",
    "    #Average phase values\n",
    "    Ave_phase=signal_data['Phase'].mean()\n",
    "    #send values to a list\n",
    "    ASP.append(Ave_phase)\n",
    "    #save list of average phase value for each observation period to a dataframe\n",
    "    ave_sig_phase=pd.DataFrame({'ave_phase':ASP}) \n",
    "    \n",
    "    #shifts the header row to the next table in the data\n",
    "    header_row += 523\n",
    "\n",
    "#return completed table of average signal phases\n",
    "ave_sig_phase.head()"
   ]
  },
  {
   "cell_type": "markdown",
   "metadata": {},
   "source": [
    "#find the fringe size for each observation period"
   ]
  },
  {
   "cell_type": "code",
   "execution_count": null,
   "metadata": {
    "collapsed": false
   },
   "outputs": [],
   "source": [
    "fringe_data=pd.read_excel('/Users/sabrinadesoto/Documents/Sab_Final_Project/Data/Fringe_data.xlsx', sep=',')\n",
    "fringe_data.head()"
   ]
  },
  {
   "cell_type": "code",
   "execution_count": null,
   "metadata": {
    "collapsed": true
   },
   "outputs": [],
   "source": []
  }
 ],
 "metadata": {
  "kernelspec": {
   "display_name": "Python 3",
   "language": "python",
   "name": "python3"
  },
  "language_info": {
   "codemirror_mode": {
    "name": "ipython",
    "version": 3
   },
   "file_extension": ".py",
   "mimetype": "text/x-python",
   "name": "python",
   "nbconvert_exporter": "python",
   "pygments_lexer": "ipython3",
   "version": "3.4.3"
  }
 },
 "nbformat": 4,
 "nbformat_minor": 0
}
