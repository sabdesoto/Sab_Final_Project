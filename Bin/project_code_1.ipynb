{
 "cells": [
  {
   "cell_type": "markdown",
   "metadata": {},
   "source": [
    "#1.)set up"
   ]
  },
  {
   "cell_type": "code",
   "execution_count": 1,
   "metadata": {
    "collapsed": true
   },
   "outputs": [],
   "source": [
    "#Import Libraries\n",
    "import pandas as pd\n",
    "import matplotlib.pyplot as plt\n",
    "%matplotlib inline\n",
    "import re"
   ]
  },
  {
   "cell_type": "markdown",
   "metadata": {},
   "source": [
    "I have to sepparate the data from the full data sheet since I want to import it using pandas, which can't read the inturupting headers. To sepparate the data I created a scipt called extractheaders.sh and saved just the end of the headeline numbers in a file that I've loaded bellow to start. I focused on grabbing these numbers because I know they are the start to each data section and I can then count that each header is 13 lines long and I can choose to skip these lines and extract only the data for that section by noting the line the next header starts. "
   ]
  },
  {
   "cell_type": "code",
   "execution_count": 2,
   "metadata": {
    "collapsed": true
   },
   "outputs": [],
   "source": [
    "#load number lines for end of headers from full data \n",
    "headerlines=pd.read_table('header_ends.dat')"
   ]
  },
  {
   "cell_type": "code",
   "execution_count": 3,
   "metadata": {
    "collapsed": false
   },
   "outputs": [
    {
     "name": "stdout",
     "output_type": "stream",
     "text": [
      "     12\n",
      "0   538\n",
      "1  1064\n",
      "2  1590\n",
      "3  2116\n",
      "4  2642\n"
     ]
    }
   ],
   "source": [
    "print(headerlines.head())"
   ]
  },
  {
   "cell_type": "code",
   "execution_count": 4,
   "metadata": {
    "collapsed": true
   },
   "outputs": [],
   "source": [
    "#variable for the length of the unseparated data called sabrina.dat\n",
    "#setting this variable with the len() function would make your code easier to manage if you change anything about your data\n",
    "#even if you don't change your data, it will make your code more reusable\n",
    "length_of_file=12624"
   ]
  },
  {
   "cell_type": "code",
   "execution_count": 28,
   "metadata": {
    "collapsed": false
   },
   "outputs": [],
   "source": [
    "#this while loop should load your data\n",
    "#skipped rows is equal to the number of rows at the bottom of the file to skip\n",
    "skipped_footer = length_of_file\n",
    "#table will store the each table of data as an item in a list\n",
    "table = []\n",
    "#header row is equal to the row that contains the header for the data\n",
    "header_row = 10\n",
    "#this loops will continue to go, until all the data has been read\n",
    "while skipped_footer > 0:\n",
    "    #shifts the skipped footer down the length of a table \n",
    "    skipped_footer -= 526\n",
    "    #dataframe is the dataframe that contains the data\n",
    "    dataframe = pd.read_table('sabrina.dat', sep='\\s+', header=header_row, skipfooter = skipped_footer, engine='python')\n",
    "    #appends the dataframe to the list\n",
    "    table.append(dataframe)\n",
    "    #save the list of data chunks\n",
    "    dataframe.to_csv('/Users/sabrinadesoto/Documents/Sab_Final_Project/Bin/data_chunks_list.csv', delimiter=',')\n",
    "    #shifts the header row to the next table in the data\n",
    "    header_row += 523\n"
   ]
  },
  {
   "cell_type": "code",
   "execution_count": null,
   "metadata": {
    "collapsed": true
   },
   "outputs": [],
   "source": [
    "for chunks in table[]:\n",
    "    \n"
   ]
  },
  {
   "cell_type": "code",
   "execution_count": 54,
   "metadata": {
    "collapsed": false
   },
   "outputs": [
    {
     "data": {
      "text/html": [
       "<div>\n",
       "<table border=\"1\" class=\"dataframe\">\n",
       "  <thead>\n",
       "    <tr style=\"text-align: right;\">\n",
       "      <th></th>\n",
       "      <th>Channel</th>\n",
       "      <th>IF</th>\n",
       "      <th>Polar</th>\n",
       "      <th>Frequency</th>\n",
       "      <th>Velocity</th>\n",
       "      <th>Amplitude</th>\n",
       "      <th>Phase</th>\n",
       "    </tr>\n",
       "  </thead>\n",
       "  <tbody>\n",
       "    <tr>\n",
       "      <th>0</th>\n",
       "      <td>1</td>\n",
       "      <td>1</td>\n",
       "      <td>RR</td>\n",
       "      <td>1720.8099</td>\n",
       "      <td>0</td>\n",
       "      <td>NaN</td>\n",
       "      <td>NaN</td>\n",
       "    </tr>\n",
       "    <tr>\n",
       "      <th>1</th>\n",
       "      <td>2</td>\n",
       "      <td>1</td>\n",
       "      <td>RR</td>\n",
       "      <td>1720.8093</td>\n",
       "      <td>0</td>\n",
       "      <td>0.000259</td>\n",
       "      <td>6.040</td>\n",
       "    </tr>\n",
       "    <tr>\n",
       "      <th>2</th>\n",
       "      <td>3</td>\n",
       "      <td>1</td>\n",
       "      <td>RR</td>\n",
       "      <td>1720.8087</td>\n",
       "      <td>0</td>\n",
       "      <td>0.000464</td>\n",
       "      <td>-95.605</td>\n",
       "    </tr>\n",
       "    <tr>\n",
       "      <th>3</th>\n",
       "      <td>4</td>\n",
       "      <td>1</td>\n",
       "      <td>RR</td>\n",
       "      <td>1720.8081</td>\n",
       "      <td>0</td>\n",
       "      <td>0.000522</td>\n",
       "      <td>-106.389</td>\n",
       "    </tr>\n",
       "    <tr>\n",
       "      <th>4</th>\n",
       "      <td>5</td>\n",
       "      <td>1</td>\n",
       "      <td>RR</td>\n",
       "      <td>1720.8075</td>\n",
       "      <td>0</td>\n",
       "      <td>0.000423</td>\n",
       "      <td>-20.039</td>\n",
       "    </tr>\n",
       "  </tbody>\n",
       "</table>\n",
       "</div>"
      ],
      "text/plain": [
       "   Channel  IF Polar  Frequency  Velocity  Amplitude    Phase\n",
       "0        1   1    RR  1720.8099         0        NaN      NaN\n",
       "1        2   1    RR  1720.8093         0   0.000259    6.040\n",
       "2        3   1    RR  1720.8087         0   0.000464  -95.605\n",
       "3        4   1    RR  1720.8081         0   0.000522 -106.389\n",
       "4        5   1    RR  1720.8075         0   0.000423  -20.039"
      ]
     },
     "execution_count": 54,
     "metadata": {},
     "output_type": "execute_result"
    }
   ],
   "source": [
    "#First chunk of data:\n",
    "#Renamed Ampl(JY) to avoide syntax errors\n",
    "table[0].columns=['Channel','IF','Polar','Frequency','Velocity','Amplitude','Phase']\n",
    "#converted Ampl from str(because of E) to float \n",
    "table[0]['Amplitude']=table[0][1:]['Amplitude'].astype(float)\n",
    "table[0].head()"
   ]
  },
  {
   "cell_type": "code",
   "execution_count": 29,
   "metadata": {
    "collapsed": false
   },
   "outputs": [],
   "source": [
    "#save this table as a file\n",
    "table[0].to_csv('/Users/sabrinadesoto/Documents/Sab_Final_Project/Data/Data_chunk0.csv', delimiter='\\s+')"
   ]
  },
  {
   "cell_type": "markdown",
   "metadata": {},
   "source": [
    "#3.)make phase diagrams\n",
    "Spike in the amplitude is the detection we care about. From that we can look at the phase pts that go with that spike."
   ]
  },
  {
   "cell_type": "code",
   "execution_count": 64,
   "metadata": {
    "collapsed": false,
    "scrolled": true
   },
   "outputs": [
    {
     "name": "stderr",
     "output_type": "stream",
     "text": [
      "/Users/sabrinadesoto/anaconda/lib/python3.4/site-packages/matplotlib/collections.py:590: FutureWarning: elementwise comparison failed; returning scalar instead, but in the future will perform elementwise comparison\n",
      "  if self._edgecolors == str('face'):\n"
     ]
    },
    {
     "data": {
      "image/png": "[encoded data removed]",
      "text/plain": [
       "<matplotlib.figure.Figure at 0x10ba23f98>"
      ]
     },
     "metadata": {},
     "output_type": "display_data"
    }
   ],
   "source": [
    "#Plot Channel vs. phase/ampl. for all times\n",
    "#use multi-pannel plots stacked on eachother\n",
    "\n",
    "plt.figure(figsize=(10,4))\n",
    "\n",
    "#subplot 1-phase\n",
    "plt.subplot (2,1,1)\n",
    "#need to limit input to each chunk of data\n",
    "plt.scatter(table[0].Frequency, table[0].Phase)\n",
    "#I don't want it to show the x-axis?\n",
    "plt.ylabel('Phase')\n",
    "plt.title('Phase Diagram')\n",
    "\n",
    "\n",
    "#subplot 2-ampl.\n",
    "plt.subplot (2,1,2)\n",
    "plt.plot(table[0].Frequency, table[0].Amplitude, color='g')\n",
    "#how do I get the scale to be numbers like 1720....\n",
    "plt.xlim(1720.48, 1720.82)\n",
    "\n",
    "plt.xlabel('Tunned Frequency')\n",
    "plt.ylabel('Amplitude(Jy)')\n",
    "\n",
    "plt.savefig('/Users/sabrinadesoto/Documents/Sab_Final_Project/Data/Phase_Diagram0.pdf')\n",
    "plt.show()"
   ]
  },
  {
   "cell_type": "code",
   "execution_count": 60,
   "metadata": {
    "collapsed": false,
    "scrolled": true
   },
   "outputs": [
    {
     "ename": "SyntaxError",
     "evalue": "invalid syntax (<ipython-input-60-5e17247896f8>, line 2)",
     "output_type": "error",
     "traceback": [
      "\u001b[0;36m  File \u001b[0;32m\"<ipython-input-60-5e17247896f8>\"\u001b[0;36m, line \u001b[0;32m2\u001b[0m\n\u001b[0;31m    table[].plot(subplots=True, figsize = (10, 12))\u001b[0m\n\u001b[0m          ^\u001b[0m\n\u001b[0;31mSyntaxError\u001b[0m\u001b[0;31m:\u001b[0m invalid syntax\n"
     ]
    }
   ],
   "source": [
    "#plot for all chunks of data\n",
    "table[].plot(subplots=True, figsize = (10, 12))"
   ]
  },
  {
   "cell_type": "markdown",
   "metadata": {},
   "source": [
    "#4.)isolate detection data pts."
   ]
  },
  {
   "cell_type": "code",
   "execution_count": null,
   "metadata": {
    "collapsed": true
   },
   "outputs": [],
   "source": [
    "#find max amplitude(=detect spike)\n",
    "print(re_ampl.max())#can I include this in detection function?\n",
    "\n",
    "def detection_phases(resampled):\n",
    "'''finds coorisponding phase pts. for amplitude spikes indicating a detection'''\n",
    "#write loop that for all aplitudes greater than () will return the corresponding phase\n",
    "    if re_ampl > #value?:\n",
    "        return re_phase\n",
    "\n",
    "#loop returns only detection phases \n",
    "for data in resampled:\n",
    "    detection=detection_phases(data)\n",
    "    if detection:\n",
    "        print(detection_phases(data))"
   ]
  },
  {
   "cell_type": "markdown",
   "metadata": {},
   "source": [
    "#5.)compare detection for all 30min ave."
   ]
  },
  {
   "cell_type": "code",
   "execution_count": null,
   "metadata": {
    "collapsed": false
   },
   "outputs": [],
   "source": [
    "#creat table from all detection data\n",
    "\n",
    "#first row is the 30minute data collection chunks\n",
    "\n",
    "#function to grab times from data: \n",
    "def get_time(record):\n",
    "    '''Return (hour,minute) as string'''\n",
    "    \n",
    "    #assign variable to capture pattern and capturing\n",
    "    cp='\\s([\\s][0-9]|[0-9][0-9])\\s([\\s][0-9]|[0-9][0-9])\\s30.0'#adjust to include day&ave?\n",
    "    p=re.search(cp, record)\n",
    "    \n",
    "    #loop for research to return above pattern\n",
    "    if p:\n",
    "        return p.group(1), p.group(2)\n",
    "\n",
    "#add loop so that no-matches aren't printed\n",
    "for r in readings:\n",
    "    #assign variable to function\n",
    "    time=get_time(r)\n",
    "    if time:\n",
    "        print(get_time(r))\n",
    "        \n",
    "#column for each are detection data from step 4\n",
    "#how do I match those detections with a single detection time for each chunk? "
   ]
  },
  {
   "cell_type": "markdown",
   "metadata": {},
   "source": [
    "#6.)do some super handy stats "
   ]
  },
  {
   "cell_type": "code",
   "execution_count": null,
   "metadata": {
    "collapsed": true
   },
   "outputs": [],
   "source": []
  },
  {
   "cell_type": "markdown",
   "metadata": {},
   "source": [
    "#7.)do some way cooler physics"
   ]
  },
  {
   "cell_type": "code",
   "execution_count": null,
   "metadata": {
    "collapsed": true
   },
   "outputs": [],
   "source": []
  }
 ],
 "metadata": {
  "kernelspec": {
   "display_name": "Python 3",
   "language": "python",
   "name": "python3"
  },
  "language_info": {
   "codemirror_mode": {
    "name": "ipython",
    "version": 3
   },
   "file_extension": ".py",
   "mimetype": "text/x-python",
   "name": "python",
   "nbconvert_exporter": "python",
   "pygments_lexer": "ipython3",
   "version": "3.4.3"
  }
 },
 "nbformat": 4,
 "nbformat_minor": 0
}
