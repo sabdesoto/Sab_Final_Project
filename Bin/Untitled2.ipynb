{
 "cells": [
  {
   "cell_type": "code",
   "execution_count": 1,
   "metadata": {
    "collapsed": true
   },
   "outputs": [],
   "source": [
    "#Import Libraries\n",
    "import pandas as pd\n",
    "import matplotlib.pyplot as plt\n",
    "%matplotlib inline\n",
    "import csv\n",
    "import re"
   ]
  },
  {
   "cell_type": "code",
   "execution_count": 2,
   "metadata": {
    "collapsed": true
   },
   "outputs": [],
   "source": [
    "#can't figure out how to make this an argument not hard code it \n",
    "length_of_file=12624"
   ]
  },
  {
   "cell_type": "code",
   "execution_count": 4,
   "metadata": {
    "collapsed": true
   },
   "outputs": [],
   "source": [
    "#While loop to load data into a list by sepparating chunks by observation periods\n",
    "def load_data(filepath):\n",
    "    \n",
    "    #Assign variables \n",
    "    #Length of data file \n",
    "    length_of_file=12624\n",
    "    #skipped rows is equal to the number of rows at the bottom of the file to skip\n",
    "    skipped_footer = length_of_file\n",
    "    #header row is equal to the row that contains the header for the data\n",
    "    header_row = 10\n",
    "    #table will store the each chunk of observation time data as an item in a list\n",
    "    table = []\n",
    "\n",
    "    #Variable to tell me how many times the loop is ran \n",
    "    observation_periods=0\n",
    "\n",
    "    #loops will continue to go, until all the data has been read\n",
    "    while skipped_footer > 0:\n",
    "        #shifts the skipped footer down the length of a table \n",
    "        skipped_footer -= 526\n",
    "        #dataframe is the dataframe that contains the data\n",
    "        dataframe = pd.read_table(filepath, sep='\\s+', header=header_row, skipfooter = skipped_footer, engine='python')\n",
    "        #appends the dataframe to the list\n",
    "        table.append(dataframe)\n",
    "        #Renamed Ampl(JY) to avoide syntax errors\n",
    "        dataframe.columns=['Channel','IF','Polar','Frequency','Velocity','Amplitude','Phase']\n",
    "        #converted Ampl from str(because of E) to float \n",
    "        dataframe['Amplitude']=dataframe[1:]['Amplitude'].astype(float)\n",
    "        #shifts the header row to the next table in the data\n",
    "        header_row += 523\n",
    "        #count each time list is ran through\n",
    "        observation_periods+=1\n",
    "\n",
    "    #tell how many time list was ran through (tells me how many outputs I should get from now on)\n",
    "    print(observation_periods)"
   ]
  },
  {
   "cell_type": "code",
   "execution_count": 5,
   "metadata": {
    "collapsed": false
   },
   "outputs": [
    {
     "name": "stdout",
     "output_type": "stream",
     "text": [
      "24\n"
     ]
    }
   ],
   "source": [
    "load_data('/Users/sabrinadesoto/Documents/Sab_Final_Project/Data/sabrina.dat')"
   ]
  },
  {
   "cell_type": "code",
   "execution_count": 6,
   "metadata": {
    "collapsed": false
   },
   "outputs": [
    {
     "ename": "NameError",
     "evalue": "name 'table' is not defined",
     "output_type": "error",
     "traceback": [
      "\u001b[0;31m---------------------------------------------------------------------------\u001b[0m",
      "\u001b[0;31mNameError\u001b[0m                                 Traceback (most recent call last)",
      "\u001b[0;32m<ipython-input-6-79f0e590a928>\u001b[0m in \u001b[0;36m<module>\u001b[0;34m()\u001b[0m\n\u001b[1;32m      1\u001b[0m \u001b[0;31m#check table holds right values\u001b[0m\u001b[0;34m\u001b[0m\u001b[0;34m\u001b[0m\u001b[0m\n\u001b[0;32m----> 2\u001b[0;31m \u001b[0mtable\u001b[0m\u001b[0;34m[\u001b[0m\u001b[0;36m0\u001b[0m\u001b[0;34m]\u001b[0m\u001b[0;34m.\u001b[0m\u001b[0mhead\u001b[0m\u001b[0;34m(\u001b[0m\u001b[0;34m)\u001b[0m\u001b[0;34m\u001b[0m\u001b[0m\n\u001b[0m",
      "\u001b[0;31mNameError\u001b[0m: name 'table' is not defined"
     ]
    }
   ],
   "source": [
    "#check table holds right values\n",
    "table[0].head()"
   ]
  },
  {
   "cell_type": "code",
   "execution_count": null,
   "metadata": {
    "collapsed": true
   },
   "outputs": [],
   "source": []
  }
 ],
 "metadata": {
  "kernelspec": {
   "display_name": "Python 3",
   "language": "python",
   "name": "python3"
  },
  "language_info": {
   "codemirror_mode": {
    "name": "ipython",
    "version": 3
   },
   "file_extension": ".py",
   "mimetype": "text/x-python",
   "name": "python",
   "nbconvert_exporter": "python",
   "pygments_lexer": "ipython3",
   "version": "3.4.3"
  }
 },
 "nbformat": 4,
 "nbformat_minor": 0
}
