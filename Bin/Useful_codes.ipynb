{
 "cells": [
  {
   "cell_type": "markdown",
   "metadata": {},
   "source": [
    "#Useful codes for Project"
   ]
  },
  {
   "cell_type": "code",
   "execution_count": null,
   "metadata": {
    "collapsed": true
   },
   "outputs": [],
   "source": [
    "#libraries\n",
    "import matplotlib.pyplot as plt\n",
    "%matplotlib inline\n",
    "import numpy as np\n",
    "import pandas as pd\n",
    "import re\n",
    "\n",
    "#stats libraries\n",
    "import statsmodels.api as sm\n",
    "import scipy"
   ]
  },
  {
   "cell_type": "code",
   "execution_count": null,
   "metadata": {
    "collapsed": true
   },
   "outputs": [],
   "source": [
    "#Saved all tables to csv file \n",
    "csvfile = \"/Users/sabrinadesoto/Documents/Sab_Final_Project/Data/TEST\"\n",
    "\n",
    "#Assuming res is a flat list\n",
    "with open(csvfile, \"w\") as output:\n",
    "    writer = csv.writer(output, lineterminator='\\n')\n",
    "    for val in table:\n",
    "        writer.writerow([val])  "
   ]
  },
  {
   "cell_type": "code",
   "execution_count": null,
   "metadata": {
    "collapsed": true
   },
   "outputs": [],
   "source": [
    "#Day 3 basics\n",
    "#print options to view data parts\n",
    "print(type(data))\n",
    "print(data.shape)\n",
    "print('first four rows and first ten colums', data[0:4, 0:10])\n",
    "data[0:4, 0:10].shape\n",
    "#max of all data\n",
    "print(data.max())"
   ]
  },
  {
   "cell_type": "code",
   "execution_count": null,
   "metadata": {
    "collapsed": true
   },
   "outputs": [],
   "source": [
    "#make a smaller data set with 3 rows and 4 colums\n",
    "small = data [:3, -4:]"
   ]
  },
  {
   "cell_type": "code",
   "execution_count": null,
   "metadata": {
    "collapsed": true
   },
   "outputs": [],
   "source": [
    "#load data\n",
    "#tells how to read file by splitting every time enter is typed (\\n)\n",
    "readings = open('sabrina.dat', 'r').read().split('\\n')\n",
    "    #loops through all lines from the file\n",
    "for line in readings:\n",
    "    print(line)\n"
   ]
  },
  {
   "cell_type": "code",
   "execution_count": null,
   "metadata": {
    "collapsed": true
   },
   "outputs": [],
   "source": [
    "#Plot data\n",
    "#resize figure (has to go first)\n",
    "plt.figure(figsize=(3,2))\n",
    "\n",
    "# add subplot\n",
    "plt.subplot(1,1,1)\n",
    "\n",
    "# adjust margins\n",
    "plt.subplots_adjust(left  = 0.15, right = 0.95, bottom = 0.225, top = 0.85)\n",
    "\n",
    "#add data to plot\n",
    "#(x-axis, y-axis, markers, color, linestyle)\n",
    "plt.plot(decaydata.time, decaydata.decays, markersize=10, marker='D', color='g', linestyle='-')\n",
    "\n",
    "\n",
    "#add axis labels\n",
    "plt.ylabel('Decays')\n",
    "plt.xlabel('Time(s)')\n",
    "\n",
    "#modify x-axis limits\n",
    "plt.xlim(-.5,5.5)\n",
    "plt.ylim(-1,11)\n",
    "\n",
    "#add title\n",
    "plt.title('Radioactive Decay')\n",
    "\n",
    "#add gridlines\n",
    "plt.grid(True)\n",
    "\n",
    "#save fig\n",
    "plt.savefig('decays_plot.pdf')\n",
    "\n",
    "#show plot\n",
    "plt.show()\n",
    "\n",
    "#add subplots and how many by \n",
    "plt.subplot(1,3,1) \n",
    "#then info"
   ]
  },
  {
   "cell_type": "code",
   "execution_count": null,
   "metadata": {
    "collapsed": true
   },
   "outputs": [],
   "source": [
    "#might need regular expressions to find patterns in loop?\n",
    "#need some sort stats but not sure what "
   ]
  },
  {
   "cell_type": "code",
   "execution_count": null,
   "metadata": {
    "collapsed": true
   },
   "outputs": [],
   "source": [
    "# Identitfy version of software used\n",
    "pd.__version__"
   ]
  },
  {
   "cell_type": "code",
   "execution_count": null,
   "metadata": {
    "collapsed": true
   },
   "outputs": [],
   "source": []
  }
 ],
 "metadata": {
  "kernelspec": {
   "display_name": "Python 3",
   "language": "python",
   "name": "python3"
  },
  "language_info": {
   "codemirror_mode": {
    "name": "ipython",
    "version": 3
   },
   "file_extension": ".py",
   "mimetype": "text/x-python",
   "name": "python",
   "nbconvert_exporter": "python",
   "pygments_lexer": "ipython3",
   "version": "3.4.3"
  }
 },
 "nbformat": 4,
 "nbformat_minor": 0
}
